{
 "cells": [
  {
   "cell_type": "code",
   "execution_count": null,
   "id": "106d1179-e6ea-4025-931d-f10c51ed0e91",
   "metadata": {},
   "outputs": [],
   "source": []
  },
  {
   "cell_type": "code",
   "execution_count": null,
   "id": "4c963a10-7168-4285-9ff2-b1c4b3d313c9",
   "metadata": {},
   "outputs": [],
   "source": []
  },
  {
   "cell_type": "code",
   "execution_count": null,
   "id": "43ee2154-3f44-4b01-b45d-97d72ca5ea72",
   "metadata": {},
   "outputs": [],
   "source": []
  }
 ],
 "metadata": {
  "kernelspec": {
   "display_name": "python3",
   "language": "python",
   "name": "python3"
  }
 },
 "nbformat": 4,
 "nbformat_minor": 5
}
