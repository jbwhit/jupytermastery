{
 "cells": [
  {
   "cell_type": "markdown",
   "id": "581b1a3e-5276-4687-8e39-bf75ea6724f4",
   "metadata": {},
   "source": [
    "# RISE\n",
    "\n",
    "Interactive slides.\n",
    "\n",
    "```\n",
    "pip install jupyterlab_rise\n",
    "\n",
    "```\n",
    "\n"
   ]
  },
  {
   "cell_type": "code",
   "execution_count": null,
   "id": "a9e6afb8-4dfd-496a-a74b-7e073d710bee",
   "metadata": {},
   "outputs": [],
   "source": []
  }
 ],
 "metadata": {
  "kernelspec": {
   "display_name": "python3",
   "language": "python",
   "name": "python3"
  }
 },
 "nbformat": 4,
 "nbformat_minor": 5
}
