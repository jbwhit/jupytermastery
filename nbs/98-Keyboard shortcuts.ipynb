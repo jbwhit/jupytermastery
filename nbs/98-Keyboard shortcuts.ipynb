{
 "cells": [
  {
   "cell_type": "markdown",
   "id": "8694ee45-ed50-4ea0-8b9b-eeb921a05aa2",
   "metadata": {},
   "source": [
    "\n",
    "## First keyboard shortcuts to know\n",
    "\n",
    "- Command palette ⇧+⌘+C\n",
    "- Hide and show side panels\n",
    "  - Left cmd B\n",
    "  - Right cmd J\n",
    "\n",
    "- File browser shift cmd F\n",
    "- Table of contents shift cmd K\n",
    "- Debugger panel shift cmd E\n",
    "\n",
    "- Show line numbers shift L (whole notebook)\n",
    "- Render side by side (Shift R)\n",
    "\n",
    "- Move cells around\n",
    "  - select and use control shift Up and Down arrows\n",
    "\n",
    "Run: \n",
    "- shift enter -- run and select next\n",
    "- cmd enter -- run and stay selected\n",
    "\n",
    "- Select next tab control shift []\n",
    "\n",
    "- Contextual help cmd + I\n",
    "\n"
   ]
  },
  {
   "cell_type": "code",
   "execution_count": null,
   "id": "1444eb76-47d8-4145-b356-53ac3a202bb9",
   "metadata": {},
   "outputs": [],
   "source": []
  }
 ],
 "metadata": {
  "kernelspec": {
   "display_name": "python3",
   "language": "python",
   "name": "python3"
  }
 },
 "nbformat": 4,
 "nbformat_minor": 5
}
