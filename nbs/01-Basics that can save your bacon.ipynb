{
 "cells": [
  {
   "cell_type": "markdown",
   "id": "5b418e25-74e9-4165-bcd1-c647618e41a3",
   "metadata": {},
   "source": [
    "# Knowing these basics can save your bacon\n",
    "\n",
    "## Update settings\n",
    "\n",
    "Open the command palette with: `⇧+⌘+C`\n",
    " \n",
    " - search 'settings'\n",
    "     - Auto Closing Brackets"
   ]
  },
  {
   "cell_type": "markdown",
   "id": "9230c96e-6aba-40ab-993d-42c07e963d73",
   "metadata": {},
   "source": [
    "<a id=\"cell\"></a>\n",
    "## Cell types\n",
    "\n",
    "### Markdown \n",
    "You have to \"execute\" a markdown cell to render it. \n",
    "\n"
   ]
  },
  {
   "cell_type": "markdown",
   "id": "91bfcb32-b068-4f41-b945-98b5581b8650",
   "metadata": {},
   "source": [
    "There are also standard box things you can do as well: \n",
    "\n",
    "<div class=\"alert alert-block alert-info\"><b>Tip:</b> A blue box for tips.</div>\n",
    "\n",
    "<div class=\"alert alert-block alert-warning\"><b>Warning:</b> A yellow box for warnings.</div>\n",
    "\n",
    "<div class=\"alert alert-block alert-success\"><b>Success:</b> A green alert for success.</div>\n",
    "\n",
    "<div class=\"alert alert-block alert-danger\"><b>Danger:</b> A red alert for danger.</div>\n"
   ]
  },
  {
   "cell_type": "code",
   "execution_count": null,
   "id": "9c94310a-0860-40c9-88e2-02dd230a9d7e",
   "metadata": {},
   "outputs": [
    {
     "name": "stdout",
     "output_type": "stream",
     "text": [
      "7\n"
     ]
    }
   ],
   "source": [
    "# execute with mouse, once ever, to find the keyboard shortcut\n",
    "print(2 + 5)"
   ]
  },
  {
   "cell_type": "code",
   "execution_count": null,
   "id": "41e1bcb9-8373-4b3a-ba1a-67b550ba3de6",
   "metadata": {},
   "outputs": [],
   "source": [
    "def silly_function():\n",
    "    \"\"\"Weird docstring\"\"\"\n",
    "    import numpy as np\n",
    "    x = np.linspace(0, 2 * np.pi)\n",
    "    y = np.sin(x)\n",
    "    return x, y\n",
    "\n"
   ]
  },
  {
   "cell_type": "code",
   "execution_count": null,
   "id": "94227fff-80bb-4efd-bef4-ebb5149b6c4b",
   "metadata": {},
   "outputs": [],
   "source": [
    "# delete function"
   ]
  },
  {
   "cell_type": "code",
   "execution_count": null,
   "id": "0dc8cf7e-0c23-4de2-b6f3-b3d2f2e6706e",
   "metadata": {},
   "outputs": [
    {
     "data": {
      "text/plain": [
       "7"
      ]
     },
     "execution_count": null,
     "metadata": {},
     "output_type": "execute_result"
    }
   ],
   "source": [
    "2 + 5"
   ]
  },
  {
   "cell_type": "code",
   "execution_count": null,
   "id": "b3488d2b-2605-427b-bd1b-d3a02ff010f7",
   "metadata": {},
   "outputs": [],
   "source": []
  },
  {
   "cell_type": "markdown",
   "id": "39f24dd8-14f5-48ff-8a0e-89ffa4df40be",
   "metadata": {},
   "source": [
    "## Inspect everything"
   ]
  },
  {
   "cell_type": "code",
   "execution_count": null,
   "id": "ef74668b-56bc-4ec7-b5d8-13f9ad068bb7",
   "metadata": {},
   "outputs": [],
   "source": [
    "# leading or trailing \"?\" shows information\n",
    "silly_function?"
   ]
  },
  {
   "cell_type": "code",
   "execution_count": null,
   "id": "d5b3d1ef-6a1f-4d45-b80a-4a172177c4a7",
   "metadata": {},
   "outputs": [
    {
     "data": {
      "text/plain": [
       "\u001b[0;31mSignature:\u001b[0m \u001b[0msilly_function\u001b[0m\u001b[0;34m(\u001b[0m\u001b[0;34m)\u001b[0m\u001b[0;34m\u001b[0m\u001b[0;34m\u001b[0m\u001b[0m\n",
       "\u001b[0;31mSource:\u001b[0m   \n",
       "\u001b[0;32mdef\u001b[0m \u001b[0msilly_function\u001b[0m\u001b[0;34m(\u001b[0m\u001b[0;34m)\u001b[0m\u001b[0;34m:\u001b[0m\u001b[0;34m\u001b[0m\n",
       "\u001b[0;34m\u001b[0m    \u001b[0;34m\"\"\"Weird docstring\"\"\"\u001b[0m\u001b[0;34m\u001b[0m\n",
       "\u001b[0;34m\u001b[0m    \u001b[0;32mimport\u001b[0m \u001b[0mnumpy\u001b[0m \u001b[0;32mas\u001b[0m \u001b[0mnp\u001b[0m\u001b[0;34m\u001b[0m\n",
       "\u001b[0;34m\u001b[0m    \u001b[0mx\u001b[0m \u001b[0;34m=\u001b[0m \u001b[0mnp\u001b[0m\u001b[0;34m.\u001b[0m\u001b[0mlinspace\u001b[0m\u001b[0;34m(\u001b[0m\u001b[0;36m0\u001b[0m\u001b[0;34m,\u001b[0m \u001b[0;36m2\u001b[0m \u001b[0;34m*\u001b[0m \u001b[0mnp\u001b[0m\u001b[0;34m.\u001b[0m\u001b[0mpi\u001b[0m\u001b[0;34m)\u001b[0m\u001b[0;34m\u001b[0m\n",
       "\u001b[0;34m\u001b[0m    \u001b[0my\u001b[0m \u001b[0;34m=\u001b[0m \u001b[0mnp\u001b[0m\u001b[0;34m.\u001b[0m\u001b[0msin\u001b[0m\u001b[0;34m(\u001b[0m\u001b[0mx\u001b[0m\u001b[0;34m)\u001b[0m\u001b[0;34m\u001b[0m\n",
       "\u001b[0;34m\u001b[0m    \u001b[0;32mreturn\u001b[0m \u001b[0mx\u001b[0m\u001b[0;34m,\u001b[0m \u001b[0my\u001b[0m\u001b[0;34m\u001b[0m\u001b[0;34m\u001b[0m\u001b[0m\n",
       "\u001b[0;31mFile:\u001b[0m      /var/folders/kr/r3cj9r853j9gqdtghzd0xwbc0000gn/T/ipykernel_35209/1427901194.py\n",
       "\u001b[0;31mType:\u001b[0m      function"
      ]
     },
     "metadata": {},
     "output_type": "display_data"
    }
   ],
   "source": [
    "# leading or trailing \"??\" shows source\n",
    "silly_function??"
   ]
  },
  {
   "cell_type": "markdown",
   "id": "1419e9ce-3f9e-47d7-a8b6-e29335fc64b5",
   "metadata": {},
   "source": [
    "### Recommend: SHIFT-TAB  `⇧⇥` brings up the tooltip"
   ]
  },
  {
   "cell_type": "code",
   "execution_count": null,
   "id": "9d0d25bc-4188-4582-9c37-6ff09a505d00",
   "metadata": {},
   "outputs": [],
   "source": [
    "# right here   ↓\n",
    "silly_function( )"
   ]
  },
  {
   "cell_type": "markdown",
   "id": "cabaf038-b7a5-4084-9fb2-800a11d9a1c1",
   "metadata": {},
   "source": [
    "### Recommend: Contextual help `⌘ + i`"
   ]
  },
  {
   "cell_type": "code",
   "execution_count": null,
   "id": "a4251f88-b8f2-4c0e-8d57-565bc10e40a4",
   "metadata": {},
   "outputs": [],
   "source": [
    "silly_function()"
   ]
  },
  {
   "cell_type": "markdown",
   "id": "71374dea-e6db-47cd-b3fa-be92fcaafae7",
   "metadata": {},
   "source": [
    "<a class=\"anchor\" name=\"output\"></a>\n",
    "## Input and Output"
   ]
  },
  {
   "cell_type": "code",
   "execution_count": null,
   "id": "47a05497-0e99-462a-9c55-6b7a4c9394a0",
   "metadata": {},
   "outputs": [
    {
     "data": {
      "text/plain": [
       "{5: 7}"
      ]
     },
     "execution_count": null,
     "metadata": {},
     "output_type": "execute_result"
    }
   ],
   "source": [
    "Out"
   ]
  },
  {
   "cell_type": "code",
   "execution_count": null,
   "id": "11cb9f56-8365-47da-a525-dd2ffd2a3d88",
   "metadata": {},
   "outputs": [
    {
     "data": {
      "text/plain": [
       "['',\n",
       " 'def silly_function():\\n    \"\"\"Weird docstring\"\"\"\\n    return ',\n",
       " 'def silly_function():\\n    \"\"\"Weird docstring\"\"\"\\n    return ',\n",
       " '# execute with mouse, once ever, to find the keyboard shortcut\\nprint(2 + 5)',\n",
       " 'def silly_function():\\n    \"\"\"Weird docstring\"\"\"\\n    return ',\n",
       " '2 + 5',\n",
       " 'Out',\n",
       " 'In']"
      ]
     },
     "execution_count": null,
     "metadata": {},
     "output_type": "execute_result"
    }
   ],
   "source": [
    "In"
   ]
  },
  {
   "cell_type": "code",
   "execution_count": null,
   "id": "df63eb80-b172-46f1-a0bd-c4e3c3631167",
   "metadata": {},
   "outputs": [
    {
     "data": {
      "text/plain": [
       "7"
      ]
     },
     "execution_count": null,
     "metadata": {},
     "output_type": "execute_result"
    }
   ],
   "source": [
    "Out[2]"
   ]
  },
  {
   "cell_type": "code",
   "execution_count": null,
   "id": "3ad646ae-b759-483e-80aa-712f2de1a487",
   "metadata": {},
   "outputs": [
    {
     "data": {
      "text/plain": [
       "7"
      ]
     },
     "execution_count": null,
     "metadata": {},
     "output_type": "execute_result"
    }
   ],
   "source": [
    "# previously run output in \"_\" -- not necessarily the cell above\n",
    "_ + 3"
   ]
  },
  {
   "cell_type": "code",
   "execution_count": null,
   "id": "b500984c-3b30-48b6-a51b-a450d9938dea",
   "metadata": {},
   "outputs": [
    {
     "name": "stdout",
     "output_type": "stream",
     "text": [
      "9\n"
     ]
    }
   ],
   "source": [
    "print(9) # this is not a string"
   ]
  },
  {
   "cell_type": "code",
   "execution_count": null,
   "id": "4030b705-22bd-4a8f-bcee-9b73503f0e72",
   "metadata": {},
   "outputs": [
    {
     "data": {
      "text/plain": [
       "28"
      ]
     },
     "execution_count": null,
     "metadata": {},
     "output_type": "execute_result"
    }
   ],
   "source": [
    "_ * 4"
   ]
  },
  {
   "cell_type": "code",
   "execution_count": null,
   "id": "e935f8c3-8880-429b-bcbe-ebbc8837e1c2",
   "metadata": {},
   "outputs": [
    {
     "data": {
      "text/plain": [
       "'2 + 2'"
      ]
     },
     "execution_count": null,
     "metadata": {},
     "output_type": "execute_result"
    }
   ],
   "source": [
    "In[5]"
   ]
  },
  {
   "cell_type": "code",
   "execution_count": null,
   "id": "2eaebaf0-2650-4afe-835b-9d5ea12f1901",
   "metadata": {},
   "outputs": [
    {
     "data": {
      "text/plain": [
       "28"
      ]
     },
     "execution_count": null,
     "metadata": {},
     "output_type": "execute_result"
    }
   ],
   "source": [
    "_8"
   ]
  },
  {
   "cell_type": "code",
   "execution_count": null,
   "id": "32c5a472-2ee3-4fa5-ac13-3ced671efc2a",
   "metadata": {},
   "outputs": [
    {
     "data": {
      "text/plain": [
       "4"
      ]
     },
     "execution_count": null,
     "metadata": {},
     "output_type": "execute_result"
    }
   ],
   "source": [
    "2 + 2"
   ]
  },
  {
   "cell_type": "code",
   "execution_count": null,
   "id": "287d274f-2722-45e4-b888-45437cd7f351",
   "metadata": {},
   "outputs": [
    {
     "data": {
      "text/plain": [
       "'# previously run output in \"_\" -- not necessarily the cell above\\n_ + 3'"
      ]
     },
     "execution_count": null,
     "metadata": {},
     "output_type": "execute_result"
    }
   ],
   "source": [
    "_i6"
   ]
  },
  {
   "cell_type": "code",
   "execution_count": null,
   "id": "bd377310-f492-4272-bc7b-6af3b5480306",
   "metadata": {},
   "outputs": [
    {
     "name": "stdout",
     "output_type": "stream",
     "text": [
      "# previously run output in \"_\" -- not necessarily the cell above\n",
      "_ + 3\n"
     ]
    }
   ],
   "source": [
    "print(In[6])"
   ]
  },
  {
   "cell_type": "code",
   "execution_count": null,
   "id": "50177055-76ca-48c1-97a1-bf690d5b62a2",
   "metadata": {},
   "outputs": [],
   "source": [
    "# reorder cells (mouse)\n",
    "# reorder cells (keyboard shortcut)"
   ]
  },
  {
   "cell_type": "code",
   "execution_count": null,
   "id": "2f114de7-c780-4d61-bba6-06113eb86245",
   "metadata": {},
   "outputs": [
    {
     "data": {
      "text/plain": [
       "7"
      ]
     },
     "execution_count": null,
     "metadata": {},
     "output_type": "execute_result"
    }
   ],
   "source": [
    "2 + 5"
   ]
  },
  {
   "cell_type": "code",
   "execution_count": null,
   "id": "4b57bff4-6cc0-4d29-87ca-29a7a5e16765",
   "metadata": {},
   "outputs": [],
   "source": [
    "# notice that _ is not above"
   ]
  },
  {
   "cell_type": "markdown",
   "id": "b6592baa-07cc-417d-aeb3-35427becdf8c",
   "metadata": {},
   "source": [
    "## Our first *magic*\n",
    "\n",
    "More on this later, for now, just marvel at the superpowers you've been granted."
   ]
  },
  {
   "cell_type": "code",
   "execution_count": null,
   "id": "b3b1b1e5-5472-4f01-86bc-62787f314840",
   "metadata": {},
   "outputs": [],
   "source": [
    "%rm -f examplehist.py"
   ]
  },
  {
   "cell_type": "code",
   "execution_count": null,
   "id": "9b2e4c5a-25e3-48f5-a49f-a97c46610b94",
   "metadata": {},
   "outputs": [],
   "source": [
    "# history magic with flags for: [o]utput and save to [f]ile.\n",
    "%history -o -f examplehist.py"
   ]
  },
  {
   "cell_type": "code",
   "execution_count": null,
   "id": "0785dedb-2984-49fe-8f79-7b91a429d01a",
   "metadata": {},
   "outputs": [
    {
     "data": {
      "text/plain": [
       "\u001b[0;31m# execute with mouse, once ever, to find the keyboard shortcut\u001b[0m\u001b[0;34m\u001b[0m\n",
       "\u001b[0;34m\u001b[0m\u001b[0mprint\u001b[0m\u001b[0;34m(\u001b[0m\u001b[0;36m2\u001b[0m \u001b[0;34m+\u001b[0m \u001b[0;36m5\u001b[0m\u001b[0;34m)\u001b[0m\u001b[0;34m\u001b[0m\n",
       "\u001b[0;34m\u001b[0m\u001b[0;36m2\u001b[0m \u001b[0;34m+\u001b[0m \u001b[0;36m5\u001b[0m\u001b[0;34m\u001b[0m\n",
       "\u001b[0;34m\u001b[0m\u001b[0;36m7\u001b[0m\u001b[0;34m\u001b[0m\n",
       "\u001b[0;34m\u001b[0m\u001b[0mOut\u001b[0m\u001b[0;34m\u001b[0m\n",
       "\u001b[0;34m\u001b[0m\u001b[0;34m{\u001b[0m\u001b[0;36m2\u001b[0m\u001b[0;34m:\u001b[0m \u001b[0;36m7\u001b[0m\u001b[0;34m}\u001b[0m\u001b[0;34m\u001b[0m\n",
       "\u001b[0;34m\u001b[0m\u001b[0mOut\u001b[0m\u001b[0;34m[\u001b[0m\u001b[0;36m2\u001b[0m\u001b[0;34m]\u001b[0m\u001b[0;34m\u001b[0m\n",
       "\u001b[0;34m\u001b[0m\u001b[0;36m7\u001b[0m\u001b[0;34m\u001b[0m\n",
       "\u001b[0;34m\u001b[0m\u001b[0;36m2\u001b[0m \u001b[0;34m+\u001b[0m \u001b[0;36m2\u001b[0m\u001b[0;34m\u001b[0m\n",
       "\u001b[0;34m\u001b[0m\u001b[0;36m4\u001b[0m\u001b[0;34m\u001b[0m\n",
       "\u001b[0;34m\u001b[0m\u001b[0;31m# previously run output in \"_\" -- not necessarily the cell above\u001b[0m\u001b[0;34m\u001b[0m\n",
       "\u001b[0;34m\u001b[0m\u001b[0m_\u001b[0m \u001b[0;34m+\u001b[0m \u001b[0;36m3\u001b[0m\u001b[0;34m\u001b[0m\n",
       "\u001b[0;34m\u001b[0m\u001b[0;36m7\u001b[0m\u001b[0;34m\u001b[0m\n",
       "\u001b[0;34m\u001b[0m\u001b[0mprint\u001b[0m\u001b[0;34m(\u001b[0m\u001b[0;36m9\u001b[0m\u001b[0;34m)\u001b[0m \u001b[0;31m# this is not a string\u001b[0m\u001b[0;34m\u001b[0m\n",
       "\u001b[0;34m\u001b[0m\u001b[0m_\u001b[0m \u001b[0;34m*\u001b[0m \u001b[0;36m4\u001b[0m\u001b[0;34m\u001b[0m\n",
       "\u001b[0;34m\u001b[0m\u001b[0;36m28\u001b[0m\u001b[0;34m\u001b[0m\n",
       "\u001b[0;34m\u001b[0m\u001b[0mIn\u001b[0m\u001b[0;34m\u001b[0m\n",
       "\u001b[0;34m\u001b[0m\u001b[0;34m[\u001b[0m\u001b[0;34m''\u001b[0m\u001b[0;34m,\u001b[0m\u001b[0;34m\u001b[0m\n",
       "\u001b[0;34m\u001b[0m \u001b[0;34m'# execute with mouse, once ever, to find the keyboard shortcut\\nprint(2 + 5)'\u001b[0m\u001b[0;34m,\u001b[0m\u001b[0;34m\u001b[0m\n",
       "\u001b[0;34m\u001b[0m \u001b[0;34m'2 + 5'\u001b[0m\u001b[0;34m,\u001b[0m\u001b[0;34m\u001b[0m\n",
       "\u001b[0;34m\u001b[0m \u001b[0;34m'Out'\u001b[0m\u001b[0;34m,\u001b[0m\u001b[0;34m\u001b[0m\n",
       "\u001b[0;34m\u001b[0m \u001b[0;34m'Out[2]'\u001b[0m\u001b[0;34m,\u001b[0m\u001b[0;34m\u001b[0m\n",
       "\u001b[0;34m\u001b[0m \u001b[0;34m'2 + 2'\u001b[0m\u001b[0;34m,\u001b[0m\u001b[0;34m\u001b[0m\n",
       "\u001b[0;34m\u001b[0m \u001b[0;34m'# previously run output in \"_\" -- not necessarily the cell above\\n_ + 3'\u001b[0m\u001b[0;34m,\u001b[0m\u001b[0;34m\u001b[0m\n",
       "\u001b[0;34m\u001b[0m \u001b[0;34m'print(9) # this is not a string'\u001b[0m\u001b[0;34m,\u001b[0m\u001b[0;34m\u001b[0m\n",
       "\u001b[0;34m\u001b[0m \u001b[0;34m'_ * 4'\u001b[0m\u001b[0;34m,\u001b[0m\u001b[0;34m\u001b[0m\n",
       "\u001b[0;34m\u001b[0m \u001b[0;34m'In'\u001b[0m\u001b[0;34m]\u001b[0m\u001b[0;34m\u001b[0m\n",
       "\u001b[0;34m\u001b[0m\u001b[0m_8\u001b[0m\u001b[0;34m\u001b[0m\n",
       "\u001b[0;34m\u001b[0m\u001b[0;36m28\u001b[0m\u001b[0;34m\u001b[0m\n",
       "\u001b[0;34m\u001b[0m\u001b[0m_i6\u001b[0m\u001b[0;34m\u001b[0m\n",
       "\u001b[0;34m\u001b[0m\u001b[0;34m'# previously run output in \"_\" -- not necessarily the cell above\\n_ + 3'\u001b[0m\u001b[0;34m\u001b[0m\n",
       "\u001b[0;34m\u001b[0m\u001b[0mprint\u001b[0m\u001b[0;34m(\u001b[0m\u001b[0mIn\u001b[0m\u001b[0;34m[\u001b[0m\u001b[0;36m6\u001b[0m\u001b[0;34m]\u001b[0m\u001b[0;34m)\u001b[0m\u001b[0;34m\u001b[0m\n",
       "\u001b[0;34m\u001b[0m\u001b[0mIn\u001b[0m\u001b[0;34m[\u001b[0m\u001b[0;36m5\u001b[0m\u001b[0;34m]\u001b[0m\u001b[0;34m\u001b[0m\n",
       "\u001b[0;34m\u001b[0m\u001b[0;34m'2 + 2'\u001b[0m\u001b[0;34m\u001b[0m\n",
       "\u001b[0;34m\u001b[0m\u001b[0;31m# reorder cells (mouse)\u001b[0m\u001b[0;34m\u001b[0m\n",
       "\u001b[0;34m\u001b[0m\u001b[0;31m# reorder cells (keyboard shortcut)\u001b[0m\u001b[0;34m\u001b[0m\n",
       "\u001b[0;34m\u001b[0m\u001b[0;36m2\u001b[0m \u001b[0;34m+\u001b[0m \u001b[0;36m5\u001b[0m\u001b[0;34m\u001b[0m\n",
       "\u001b[0;34m\u001b[0m\u001b[0;36m7\u001b[0m\u001b[0;34m\u001b[0m\n",
       "\u001b[0;34m\u001b[0m\u001b[0mOut\u001b[0m\u001b[0;34m\u001b[0m\n",
       "\u001b[0;34m\u001b[0m\u001b[0;34m{\u001b[0m\u001b[0;36m2\u001b[0m\u001b[0;34m:\u001b[0m \u001b[0;36m7\u001b[0m\u001b[0;34m,\u001b[0m\u001b[0;34m\u001b[0m\n",
       "\u001b[0;34m\u001b[0m \u001b[0;36m4\u001b[0m\u001b[0;34m:\u001b[0m \u001b[0;36m7\u001b[0m\u001b[0;34m,\u001b[0m\u001b[0;34m\u001b[0m\n",
       "\u001b[0;34m\u001b[0m \u001b[0;36m5\u001b[0m\u001b[0;34m:\u001b[0m \u001b[0;36m4\u001b[0m\u001b[0;34m,\u001b[0m\u001b[0;34m\u001b[0m\n",
       "\u001b[0;34m\u001b[0m \u001b[0;36m6\u001b[0m\u001b[0;34m:\u001b[0m \u001b[0;36m7\u001b[0m\u001b[0;34m,\u001b[0m\u001b[0;34m\u001b[0m\n",
       "\u001b[0;34m\u001b[0m \u001b[0;36m8\u001b[0m\u001b[0;34m:\u001b[0m \u001b[0;36m28\u001b[0m\u001b[0;34m,\u001b[0m\u001b[0;34m\u001b[0m\n",
       "\u001b[0;34m\u001b[0m \u001b[0;36m9\u001b[0m\u001b[0;34m:\u001b[0m \u001b[0;34m[\u001b[0m\u001b[0;34m''\u001b[0m\u001b[0;34m,\u001b[0m\u001b[0;34m\u001b[0m\n",
       "\u001b[0;34m\u001b[0m  \u001b[0;34m'# execute with mouse, once ever, to find the keyboard shortcut\\nprint(2 + 5)'\u001b[0m\u001b[0;34m,\u001b[0m\u001b[0;34m\u001b[0m\n",
       "\u001b[0;34m\u001b[0m  \u001b[0;34m'2 + 5'\u001b[0m\u001b[0;34m,\u001b[0m\u001b[0;34m\u001b[0m\n",
       "\u001b[0;34m\u001b[0m  \u001b[0;34m'Out'\u001b[0m\u001b[0;34m,\u001b[0m\u001b[0;34m\u001b[0m\n",
       "\u001b[0;34m\u001b[0m  \u001b[0;34m'Out[2]'\u001b[0m\u001b[0;34m,\u001b[0m\u001b[0;34m\u001b[0m\n",
       "\u001b[0;34m\u001b[0m  \u001b[0;34m'2 + 2'\u001b[0m\u001b[0;34m,\u001b[0m\u001b[0;34m\u001b[0m\n",
       "\u001b[0;34m\u001b[0m  \u001b[0;34m'# previously run output in \"_\" -- not necessarily the cell above\\n_ + 3'\u001b[0m\u001b[0;34m,\u001b[0m\u001b[0;34m\u001b[0m\n",
       "\u001b[0;34m\u001b[0m  \u001b[0;34m'print(9) # this is not a string'\u001b[0m\u001b[0;34m,\u001b[0m\u001b[0;34m\u001b[0m\n",
       "\u001b[0;34m\u001b[0m  \u001b[0;34m'_ * 4'\u001b[0m\u001b[0;34m,\u001b[0m\u001b[0;34m\u001b[0m\n",
       "\u001b[0;34m\u001b[0m  \u001b[0;34m'In'\u001b[0m\u001b[0;34m,\u001b[0m\u001b[0;34m\u001b[0m\n",
       "\u001b[0;34m\u001b[0m  \u001b[0;34m'_8'\u001b[0m\u001b[0;34m,\u001b[0m\u001b[0;34m\u001b[0m\n",
       "\u001b[0;34m\u001b[0m  \u001b[0;34m'_i6'\u001b[0m\u001b[0;34m,\u001b[0m\u001b[0;34m\u001b[0m\n",
       "\u001b[0;34m\u001b[0m  \u001b[0;34m'print(In[6])'\u001b[0m\u001b[0;34m,\u001b[0m\u001b[0;34m\u001b[0m\n",
       "\u001b[0;34m\u001b[0m  \u001b[0;34m'In[5]'\u001b[0m\u001b[0;34m,\u001b[0m\u001b[0;34m\u001b[0m\n",
       "\u001b[0;34m\u001b[0m  \u001b[0;34m'# reorder cells (mouse)\\n# reorder cells (keyboard shortcut)'\u001b[0m\u001b[0;34m,\u001b[0m\u001b[0;34m\u001b[0m\n",
       "\u001b[0;34m\u001b[0m  \u001b[0;34m'2 + 5'\u001b[0m\u001b[0;34m,\u001b[0m\u001b[0;34m\u001b[0m\n",
       "\u001b[0;34m\u001b[0m  \u001b[0;34m'Out'\u001b[0m\u001b[0;34m]\u001b[0m\u001b[0;34m,\u001b[0m\u001b[0;34m\u001b[0m\n",
       "\u001b[0;34m\u001b[0m \u001b[0;36m10\u001b[0m\u001b[0;34m:\u001b[0m \u001b[0;36m28\u001b[0m\u001b[0;34m,\u001b[0m\u001b[0;34m\u001b[0m\n",
       "\u001b[0;34m\u001b[0m \u001b[0;36m11\u001b[0m\u001b[0;34m:\u001b[0m \u001b[0;34m'# previously run output in \"_\" -- not necessarily the cell above\\n_ + 3'\u001b[0m\u001b[0;34m,\u001b[0m\u001b[0;34m\u001b[0m\n",
       "\u001b[0;34m\u001b[0m \u001b[0;36m13\u001b[0m\u001b[0;34m:\u001b[0m \u001b[0;34m'2 + 2'\u001b[0m\u001b[0;34m,\u001b[0m\u001b[0;34m\u001b[0m\n",
       "\u001b[0;34m\u001b[0m \u001b[0;36m15\u001b[0m\u001b[0;34m:\u001b[0m \u001b[0;36m7\u001b[0m\u001b[0;34m}\u001b[0m\u001b[0;34m\u001b[0m\n",
       "\u001b[0;34m\u001b[0m\u001b[0m_\u001b[0m \u001b[0;34m*\u001b[0m \u001b[0;36m4\u001b[0m\u001b[0;34m\u001b[0m\n",
       "\u001b[0;34m\u001b[0m\u001b[0;36m28\u001b[0m\u001b[0;34m\u001b[0m\n",
       "\u001b[0;34m\u001b[0m\u001b[0mOut\u001b[0m\u001b[0;34m[\u001b[0m\u001b[0;36m2\u001b[0m\u001b[0;34m]\u001b[0m\u001b[0;34m\u001b[0m\n",
       "\u001b[0;34m\u001b[0m\u001b[0;36m7\u001b[0m\u001b[0;34m\u001b[0m\n",
       "\u001b[0;34m\u001b[0m\u001b[0;34m%\u001b[0m\u001b[0mrm\u001b[0m \u001b[0;34m-\u001b[0m\u001b[0mf\u001b[0m \u001b[0mexamplehist\u001b[0m\u001b[0;34m.\u001b[0m\u001b[0mpy\u001b[0m\u001b[0;34m\u001b[0m\n",
       "\u001b[0;34m\u001b[0m\u001b[0;31m# history magic with flags for: [o]utput and save to [f]ile.\u001b[0m\u001b[0;34m\u001b[0m\n",
       "\u001b[0;34m\u001b[0m\u001b[0;34m%\u001b[0m\u001b[0mhistory\u001b[0m \u001b[0;34m-\u001b[0m\u001b[0mo\u001b[0m \u001b[0;34m-\u001b[0m\u001b[0mf\u001b[0m \u001b[0mexamplehist\u001b[0m\u001b[0;34m.\u001b[0m\u001b[0mpy\u001b[0m\u001b[0;34m\u001b[0m\u001b[0;34m\u001b[0m\u001b[0m\n"
      ]
     },
     "metadata": {},
     "output_type": "display_data"
    }
   ],
   "source": [
    "# magic cat with python highlighting\n",
    "%pycat examplehist.py"
   ]
  },
  {
   "cell_type": "code",
   "execution_count": null,
   "id": "acdc42ef-e678-4769-9918-dd2c398bf6db",
   "metadata": {},
   "outputs": [
    {
     "name": "stdout",
     "output_type": "stream",
     "text": [
      "Out[2]\n",
      "2 + 2\n",
      "# previously run output in \"_\" -- not necessarily the cell above\n",
      "_ + 3\n"
     ]
    }
   ],
   "source": [
    "%history 4-6"
   ]
  },
  {
   "cell_type": "code",
   "execution_count": null,
   "id": "79bb964f-bebc-46e9-a0ca-ad62367cc556",
   "metadata": {},
   "outputs": [
    {
     "name": "stdout",
     "output_type": "stream",
     "text": [
      "   4: Out[2]\n",
      "   5: 2 + 2\n",
      "   6:\n",
      "# previously run output in \"_\" -- not necessarily the cell above\n",
      "_ + 3\n"
     ]
    }
   ],
   "source": [
    "# with line [n]umbers\n",
    "%history -n 4-6"
   ]
  },
  {
   "cell_type": "code",
   "execution_count": null,
   "id": "7aae6643-76a1-418d-8492-ca5900cefe37",
   "metadata": {},
   "outputs": [
    {
     "name": "stdout",
     "output_type": "stream",
     "text": [
      "   4: Out[2]\n",
      "7\n",
      "   5: 2 + 2\n",
      "4\n",
      "   6:\n",
      "# previously run output in \"_\" -- not necessarily the cell above\n",
      "_ + 3\n",
      "7\n"
     ]
    }
   ],
   "source": [
    "# with [o]utput\n",
    "%history -no 4-6"
   ]
  },
  {
   "cell_type": "code",
   "execution_count": null,
   "id": "ab1910a4-e4a9-415e-9fdf-0674d437daca",
   "metadata": {},
   "outputs": [
    {
     "name": "stdout",
     "output_type": "stream",
     "text": [
      "# execute with mouse, once ever, to find the keyboard shortcut\n",
      "print(2 + 5)\n",
      "2 + 5\n",
      "Out\n",
      "Out[2]\n",
      "2 + 2\n",
      "# previously run output in \"_\" -- not necessarily the cell above\n",
      "_ + 3\n",
      "print(9) # this is not a string\n",
      "_ * 4\n",
      "In\n",
      "_8\n",
      "_i6\n",
      "print(In[6])\n",
      "In[5]\n",
      "# reorder cells (mouse)\n",
      "# reorder cells (keyboard shortcut)\n",
      "2 + 5\n",
      "Out\n",
      "_ * 4\n",
      "Out[2]\n",
      "get_ipython().run_line_magic('rm', '-f examplehist.py')\n",
      "# history magic with flags for: [o]utput and save to [f]ile.\n",
      "get_ipython().run_line_magic('history', '-o -f examplehist.py')\n",
      "# magic cat with python highlighting\n",
      "get_ipython().run_line_magic('pycat', 'examplehist.py')\n",
      "get_ipython().run_line_magic('history', '4-6')\n",
      "# with line [n]umbers\n",
      "get_ipython().run_line_magic('history', '-n 4-6')\n",
      "# with [o]utput\n",
      "get_ipython().run_line_magic('history', '-no 4-6')\n",
      "# [t]ranslated history (convert magics to valid python)\n",
      "get_ipython().run_line_magic('history', '-t')\n"
     ]
    }
   ],
   "source": [
    "# [t]ranslated history (convert magics to valid python)\n",
    "%history -t "
   ]
  },
  {
   "cell_type": "code",
   "execution_count": null,
   "id": "c2a8ea48-5d46-4318-a637-39b55dd3bc58",
   "metadata": {},
   "outputs": [
    {
     "name": "stdout",
     "output_type": "stream",
     "text": [
      "  18:\n",
      "# todo create function and delete it. \n",
      "# regex search history (can do over multiple sessions)\n",
      "%history -g weird\n"
     ]
    }
   ],
   "source": [
    "# todo create function and delete it. \n",
    "# regex search history (can do over multiple sessions)\n",
    "%history -g weird"
   ]
  },
  {
   "cell_type": "markdown",
   "id": "6d75d55e-a31c-44f0-be00-2494e9162cdb",
   "metadata": {},
   "source": [
    "To link to it use [text with link](#myCell)."
   ]
  },
  {
   "cell_type": "code",
   "execution_count": null,
   "id": "bc636de9-bbf1-4240-8076-1318c81809c1",
   "metadata": {},
   "outputs": [],
   "source": [
    "%history -o -f examplehist.py\n",
    "# history magic with flags for: [o]utput and save to [f]ile."
   ]
  },
  {
   "cell_type": "code",
   "execution_count": null,
   "id": "9d7a4397-fa73-4d10-9ed3-eb0623abeaa7",
   "metadata": {},
   "outputs": [
    {
     "data": {
      "text/plain": [
       "\u001b[0;31m# execute with mouse, once ever, to find the keyboard shortcut\u001b[0m\u001b[0;34m\u001b[0m\n",
       "\u001b[0;34m\u001b[0m\u001b[0mprint\u001b[0m\u001b[0;34m(\u001b[0m\u001b[0;36m2\u001b[0m \u001b[0;34m+\u001b[0m \u001b[0;36m5\u001b[0m\u001b[0;34m)\u001b[0m\u001b[0;34m\u001b[0m\n",
       "\u001b[0;34m\u001b[0m\u001b[0;36m2\u001b[0m \u001b[0;34m+\u001b[0m \u001b[0;36m5\u001b[0m\u001b[0;34m\u001b[0m\n",
       "\u001b[0;34m\u001b[0m\u001b[0;36m7\u001b[0m\u001b[0;34m\u001b[0m\n",
       "\u001b[0;34m\u001b[0m\u001b[0mOut\u001b[0m\u001b[0;34m\u001b[0m\n",
       "\u001b[0;34m\u001b[0m\u001b[0;34m{\u001b[0m\u001b[0;36m2\u001b[0m\u001b[0;34m:\u001b[0m \u001b[0;36m7\u001b[0m\u001b[0;34m}\u001b[0m\u001b[0;34m\u001b[0m\n",
       "\u001b[0;34m\u001b[0m\u001b[0mOut\u001b[0m\u001b[0;34m[\u001b[0m\u001b[0;36m2\u001b[0m\u001b[0;34m]\u001b[0m\u001b[0;34m\u001b[0m\n",
       "\u001b[0;34m\u001b[0m\u001b[0;36m7\u001b[0m\u001b[0;34m\u001b[0m\n",
       "\u001b[0;34m\u001b[0m\u001b[0;36m2\u001b[0m \u001b[0;34m+\u001b[0m \u001b[0;36m2\u001b[0m\u001b[0;34m\u001b[0m\n",
       "\u001b[0;34m\u001b[0m\u001b[0;36m4\u001b[0m\u001b[0;34m\u001b[0m\n",
       "\u001b[0;34m\u001b[0m\u001b[0;31m# previously run output in \"_\" -- not necessarily the cell above\u001b[0m\u001b[0;34m\u001b[0m\n",
       "\u001b[0;34m\u001b[0m\u001b[0m_\u001b[0m \u001b[0;34m+\u001b[0m \u001b[0;36m3\u001b[0m\u001b[0;34m\u001b[0m\n",
       "\u001b[0;34m\u001b[0m\u001b[0;36m7\u001b[0m\u001b[0;34m\u001b[0m\n",
       "\u001b[0;34m\u001b[0m\u001b[0mprint\u001b[0m\u001b[0;34m(\u001b[0m\u001b[0;36m9\u001b[0m\u001b[0;34m)\u001b[0m \u001b[0;31m# this is not a string\u001b[0m\u001b[0;34m\u001b[0m\n",
       "\u001b[0;34m\u001b[0m\u001b[0m_\u001b[0m \u001b[0;34m*\u001b[0m \u001b[0;36m4\u001b[0m\u001b[0;34m\u001b[0m\n",
       "\u001b[0;34m\u001b[0m\u001b[0;36m28\u001b[0m\u001b[0;34m\u001b[0m\n",
       "\u001b[0;34m\u001b[0m\u001b[0mIn\u001b[0m\u001b[0;34m\u001b[0m\n",
       "\u001b[0;34m\u001b[0m\u001b[0;34m[\u001b[0m\u001b[0;34m''\u001b[0m\u001b[0;34m,\u001b[0m\u001b[0;34m\u001b[0m\n",
       "\u001b[0;34m\u001b[0m \u001b[0;34m'# execute with mouse, once ever, to find the keyboard shortcut\\nprint(2 + 5)'\u001b[0m\u001b[0;34m,\u001b[0m\u001b[0;34m\u001b[0m\n",
       "\u001b[0;34m\u001b[0m \u001b[0;34m'2 + 5'\u001b[0m\u001b[0;34m,\u001b[0m\u001b[0;34m\u001b[0m\n",
       "\u001b[0;34m\u001b[0m \u001b[0;34m'Out'\u001b[0m\u001b[0;34m,\u001b[0m\u001b[0;34m\u001b[0m\n",
       "\u001b[0;34m\u001b[0m \u001b[0;34m'Out[2]'\u001b[0m\u001b[0;34m,\u001b[0m\u001b[0;34m\u001b[0m\n",
       "\u001b[0;34m\u001b[0m \u001b[0;34m'2 + 2'\u001b[0m\u001b[0;34m,\u001b[0m\u001b[0;34m\u001b[0m\n",
       "\u001b[0;34m\u001b[0m \u001b[0;34m'# previously run output in \"_\" -- not necessarily the cell above\\n_ + 3'\u001b[0m\u001b[0;34m,\u001b[0m\u001b[0;34m\u001b[0m\n",
       "\u001b[0;34m\u001b[0m \u001b[0;34m'print(9) # this is not a string'\u001b[0m\u001b[0;34m,\u001b[0m\u001b[0;34m\u001b[0m\n",
       "\u001b[0;34m\u001b[0m \u001b[0;34m'_ * 4'\u001b[0m\u001b[0;34m,\u001b[0m\u001b[0;34m\u001b[0m\n",
       "\u001b[0;34m\u001b[0m \u001b[0;34m'In'\u001b[0m\u001b[0;34m]\u001b[0m\u001b[0;34m\u001b[0m\n",
       "\u001b[0;34m\u001b[0m\u001b[0m_8\u001b[0m\u001b[0;34m\u001b[0m\n",
       "\u001b[0;34m\u001b[0m\u001b[0;36m28\u001b[0m\u001b[0;34m\u001b[0m\n",
       "\u001b[0;34m\u001b[0m\u001b[0m_i6\u001b[0m\u001b[0;34m\u001b[0m\n",
       "\u001b[0;34m\u001b[0m\u001b[0;34m'# previously run output in \"_\" -- not necessarily the cell above\\n_ + 3'\u001b[0m\u001b[0;34m\u001b[0m\n",
       "\u001b[0;34m\u001b[0m\u001b[0mprint\u001b[0m\u001b[0;34m(\u001b[0m\u001b[0mIn\u001b[0m\u001b[0;34m[\u001b[0m\u001b[0;36m6\u001b[0m\u001b[0;34m]\u001b[0m\u001b[0;34m)\u001b[0m\u001b[0;34m\u001b[0m\n",
       "\u001b[0;34m\u001b[0m\u001b[0mIn\u001b[0m\u001b[0;34m[\u001b[0m\u001b[0;36m5\u001b[0m\u001b[0;34m]\u001b[0m\u001b[0;34m\u001b[0m\n",
       "\u001b[0;34m\u001b[0m\u001b[0;34m'2 + 2'\u001b[0m\u001b[0;34m\u001b[0m\n",
       "\u001b[0;34m\u001b[0m\u001b[0;31m# reorder cells (mouse)\u001b[0m\u001b[0;34m\u001b[0m\n",
       "\u001b[0;34m\u001b[0m\u001b[0;31m# reorder cells (keyboard shortcut)\u001b[0m\u001b[0;34m\u001b[0m\n",
       "\u001b[0;34m\u001b[0m\u001b[0;36m2\u001b[0m \u001b[0;34m+\u001b[0m \u001b[0;36m5\u001b[0m\u001b[0;34m\u001b[0m\n",
       "\u001b[0;34m\u001b[0m\u001b[0;36m7\u001b[0m\u001b[0;34m\u001b[0m\n",
       "\u001b[0;34m\u001b[0m\u001b[0mOut\u001b[0m\u001b[0;34m\u001b[0m\n",
       "\u001b[0;34m\u001b[0m\u001b[0;34m{\u001b[0m\u001b[0;36m2\u001b[0m\u001b[0;34m:\u001b[0m \u001b[0;36m7\u001b[0m\u001b[0;34m,\u001b[0m\u001b[0;34m\u001b[0m\n",
       "\u001b[0;34m\u001b[0m \u001b[0;36m4\u001b[0m\u001b[0;34m:\u001b[0m \u001b[0;36m7\u001b[0m\u001b[0;34m,\u001b[0m\u001b[0;34m\u001b[0m\n",
       "\u001b[0;34m\u001b[0m \u001b[0;36m5\u001b[0m\u001b[0;34m:\u001b[0m \u001b[0;36m4\u001b[0m\u001b[0;34m,\u001b[0m\u001b[0;34m\u001b[0m\n",
       "\u001b[0;34m\u001b[0m \u001b[0;36m6\u001b[0m\u001b[0;34m:\u001b[0m \u001b[0;36m7\u001b[0m\u001b[0;34m,\u001b[0m\u001b[0;34m\u001b[0m\n",
       "\u001b[0;34m\u001b[0m \u001b[0;36m8\u001b[0m\u001b[0;34m:\u001b[0m \u001b[0;36m28\u001b[0m\u001b[0;34m,\u001b[0m\u001b[0;34m\u001b[0m\n",
       "\u001b[0;34m\u001b[0m \u001b[0;36m9\u001b[0m\u001b[0;34m:\u001b[0m \u001b[0;34m[\u001b[0m\u001b[0;34m''\u001b[0m\u001b[0;34m,\u001b[0m\u001b[0;34m\u001b[0m\n",
       "\u001b[0;34m\u001b[0m  \u001b[0;34m'# execute with mouse, once ever, to find the keyboard shortcut\\nprint(2 + 5)'\u001b[0m\u001b[0;34m,\u001b[0m\u001b[0;34m\u001b[0m\n",
       "\u001b[0;34m\u001b[0m  \u001b[0;34m'2 + 5'\u001b[0m\u001b[0;34m,\u001b[0m\u001b[0;34m\u001b[0m\n",
       "\u001b[0;34m\u001b[0m  \u001b[0;34m'Out'\u001b[0m\u001b[0;34m,\u001b[0m\u001b[0;34m\u001b[0m\n",
       "\u001b[0;34m\u001b[0m  \u001b[0;34m'Out[2]'\u001b[0m\u001b[0;34m,\u001b[0m\u001b[0;34m\u001b[0m\n",
       "\u001b[0;34m\u001b[0m  \u001b[0;34m'2 + 2'\u001b[0m\u001b[0;34m,\u001b[0m\u001b[0;34m\u001b[0m\n",
       "\u001b[0;34m\u001b[0m  \u001b[0;34m'# previously run output in \"_\" -- not necessarily the cell above\\n_ + 3'\u001b[0m\u001b[0;34m,\u001b[0m\u001b[0;34m\u001b[0m\n",
       "\u001b[0;34m\u001b[0m  \u001b[0;34m'print(9) # this is not a string'\u001b[0m\u001b[0;34m,\u001b[0m\u001b[0;34m\u001b[0m\n",
       "\u001b[0;34m\u001b[0m  \u001b[0;34m'_ * 4'\u001b[0m\u001b[0;34m,\u001b[0m\u001b[0;34m\u001b[0m\n",
       "\u001b[0;34m\u001b[0m  \u001b[0;34m'In'\u001b[0m\u001b[0;34m,\u001b[0m\u001b[0;34m\u001b[0m\n",
       "\u001b[0;34m\u001b[0m  \u001b[0;34m'_8'\u001b[0m\u001b[0;34m,\u001b[0m\u001b[0;34m\u001b[0m\n",
       "\u001b[0;34m\u001b[0m  \u001b[0;34m'_i6'\u001b[0m\u001b[0;34m,\u001b[0m\u001b[0;34m\u001b[0m\n",
       "\u001b[0;34m\u001b[0m  \u001b[0;34m'print(In[6])'\u001b[0m\u001b[0;34m,\u001b[0m\u001b[0;34m\u001b[0m\n",
       "\u001b[0;34m\u001b[0m  \u001b[0;34m'In[5]'\u001b[0m\u001b[0;34m,\u001b[0m\u001b[0;34m\u001b[0m\n",
       "\u001b[0;34m\u001b[0m  \u001b[0;34m'# reorder cells (mouse)\\n# reorder cells (keyboard shortcut)'\u001b[0m\u001b[0;34m,\u001b[0m\u001b[0;34m\u001b[0m\n",
       "\u001b[0;34m\u001b[0m  \u001b[0;34m'2 + 5'\u001b[0m\u001b[0;34m,\u001b[0m\u001b[0;34m\u001b[0m\n",
       "\u001b[0;34m\u001b[0m  \u001b[0;34m'Out'\u001b[0m\u001b[0;34m]\u001b[0m\u001b[0;34m,\u001b[0m\u001b[0;34m\u001b[0m\n",
       "\u001b[0;34m\u001b[0m \u001b[0;36m10\u001b[0m\u001b[0;34m:\u001b[0m \u001b[0;36m28\u001b[0m\u001b[0;34m,\u001b[0m\u001b[0;34m\u001b[0m\n",
       "\u001b[0;34m\u001b[0m \u001b[0;36m11\u001b[0m\u001b[0;34m:\u001b[0m \u001b[0;34m'# previously run output in \"_\" -- not necessarily the cell above\\n_ + 3'\u001b[0m\u001b[0;34m,\u001b[0m\u001b[0;34m\u001b[0m\n",
       "\u001b[0;34m\u001b[0m \u001b[0;36m13\u001b[0m\u001b[0;34m:\u001b[0m \u001b[0;34m'2 + 2'\u001b[0m\u001b[0;34m,\u001b[0m\u001b[0;34m\u001b[0m\n",
       "\u001b[0;34m\u001b[0m \u001b[0;36m15\u001b[0m\u001b[0;34m:\u001b[0m \u001b[0;36m7\u001b[0m\u001b[0;34m}\u001b[0m\u001b[0;34m\u001b[0m\n",
       "\u001b[0;34m\u001b[0m\u001b[0m_\u001b[0m \u001b[0;34m*\u001b[0m \u001b[0;36m4\u001b[0m\u001b[0;34m\u001b[0m\n",
       "\u001b[0;34m\u001b[0m\u001b[0;36m28\u001b[0m\u001b[0;34m\u001b[0m\n",
       "\u001b[0;34m\u001b[0m\u001b[0mOut\u001b[0m\u001b[0;34m[\u001b[0m\u001b[0;36m2\u001b[0m\u001b[0;34m]\u001b[0m\u001b[0;34m\u001b[0m\n",
       "\u001b[0;34m\u001b[0m\u001b[0;36m7\u001b[0m\u001b[0;34m\u001b[0m\n",
       "\u001b[0;34m\u001b[0m\u001b[0;34m%\u001b[0m\u001b[0mrm\u001b[0m \u001b[0;34m-\u001b[0m\u001b[0mf\u001b[0m \u001b[0mexamplehist\u001b[0m\u001b[0;34m.\u001b[0m\u001b[0mpy\u001b[0m\u001b[0;34m\u001b[0m\n",
       "\u001b[0;34m\u001b[0m\u001b[0;31m# history magic with flags for: [o]utput and save to [f]ile.\u001b[0m\u001b[0;34m\u001b[0m\n",
       "\u001b[0;34m\u001b[0m\u001b[0;34m%\u001b[0m\u001b[0mhistory\u001b[0m \u001b[0;34m-\u001b[0m\u001b[0mo\u001b[0m \u001b[0;34m-\u001b[0m\u001b[0mf\u001b[0m \u001b[0mexamplehist\u001b[0m\u001b[0;34m.\u001b[0m\u001b[0mpy\u001b[0m\u001b[0;34m\u001b[0m\u001b[0;34m\u001b[0m\u001b[0m\n"
      ]
     },
     "metadata": {},
     "output_type": "display_data"
    }
   ],
   "source": [
    "# magic cat with python highlighting\n",
    "%pycat examplehist.py"
   ]
  },
  {
   "cell_type": "code",
   "execution_count": null,
   "id": "473bc1e2-68f9-4630-9b5b-75bc3105c675",
   "metadata": {},
   "outputs": [],
   "source": [
    "variable = print(\"Hi\")"
   ]
  },
  {
   "cell_type": "code",
   "execution_count": null,
   "id": "d5d3b1bc-4b4a-4cc9-a0cf-07abf0ef40ef",
   "metadata": {},
   "outputs": [],
   "source": [
    "\"Hi\""
   ]
  },
  {
   "cell_type": "code",
   "execution_count": null,
   "id": "65f6fc28-89ca-4572-a1c6-8217c0d3b424",
   "metadata": {},
   "outputs": [],
   "source": [
    "_ * 2"
   ]
  },
  {
   "cell_type": "markdown",
   "id": "17d1be3c-9dc1-4762-b587-475ace2647b0",
   "metadata": {},
   "source": [
    "## [Navigation](#navigation-tag-id)\n",
    "\n",
    "1. You can embed links to other parts of the notebook, [like this](#cell). Might be useful but generally I'd recommend using the Table of Contents.\n",
    "2. Table of Contents on the sidebar. \n",
    "\n",
    "### Note: When navigating via arrow keys\n",
    "If you are in edit mode you will un-render markdown; to fix this just keep in command mode while navigating.\n",
    "\n",
    "\n"
   ]
  },
  {
   "cell_type": "markdown",
   "id": "808e262d-0eba-46e6-9a1f-2496d6ddaf23",
   "metadata": {},
   "source": [
    "## What is running when?\n",
    "\n",
    " - Closing browser\n",
    " - Refreshing browser\n",
    " - Restarting kernel\n"
   ]
  },
  {
   "cell_type": "code",
   "execution_count": null,
   "id": "ccbc497c-f33e-408d-9270-761ac4f1420c",
   "metadata": {},
   "outputs": [],
   "source": []
  }
 ],
 "metadata": {
  "kernelspec": {
   "display_name": "python3",
   "language": "python",
   "name": "python3"
  }
 },
 "nbformat": 4,
 "nbformat_minor": 5
}
