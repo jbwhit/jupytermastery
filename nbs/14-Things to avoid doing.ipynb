{
 "cells": [
  {
   "cell_type": "markdown",
   "id": "c4925f79-c2e3-46f3-9241-a5643448c031",
   "metadata": {},
   "source": [
    "# Things to avoid\n",
    "\n",
    "## Importing Jupyter Notebooks as Modules"
   ]
  },
  {
   "cell_type": "code",
   "execution_count": null,
   "id": "a26c5eb4-baea-4f06-99b7-26fcfb801565",
   "metadata": {},
   "outputs": [],
   "source": []
  }
 ],
 "metadata": {
  "kernelspec": {
   "display_name": "python3",
   "language": "python",
   "name": "python3"
  }
 },
 "nbformat": 4,
 "nbformat_minor": 5
}
