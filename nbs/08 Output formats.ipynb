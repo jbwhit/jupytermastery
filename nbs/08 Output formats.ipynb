{
 "cells": [
  {
   "cell_type": "markdown",
   "id": "c09c69a2-c6ce-4a96-a6de-3bc10fa68563",
   "metadata": {},
   "source": [
    "# Quarto and websites\n",
    "\n",
    " - Executable books: https://executablebooks.org/en/latest/\n",
    " - Quarto: https://quarto.org/ "
   ]
  },
  {
   "cell_type": "code",
   "execution_count": null,
   "id": "7afd40ff-6416-4b72-a407-1c1463d7245b",
   "metadata": {},
   "outputs": [],
   "source": []
  }
 ],
 "metadata": {
  "kernelspec": {
   "display_name": "python3",
   "language": "python",
   "name": "python3"
  }
 },
 "nbformat": 4,
 "nbformat_minor": 5
}
