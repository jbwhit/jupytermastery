{
 "cells": [
  {
   "cell_type": "code",
   "execution_count": null,
   "id": "4c963a10-7168-4285-9ff2-b1c4b3d313c9",
   "metadata": {},
   "outputs": [],
   "source": []
  }
 ],
 "metadata": {
  "kernelspec": {
   "display_name": "python3",
   "language": "python",
   "name": "python3"
  }
 },
 "nbformat": 4,
 "nbformat_minor": 5
}
