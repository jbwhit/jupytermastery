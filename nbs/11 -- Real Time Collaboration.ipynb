{
 "cells": [
  {
   "cell_type": "markdown",
   "id": "664630e4-c9f1-4e22-afa4-50a8133676ae",
   "metadata": {},
   "source": [
    "# Real Time Collaboration -- don't recommend this just yet.\n",
    "\n",
    "\n",
    "```\n",
    "conda install -c conda-forge jupyter-collaboration\n",
    "```\n",
    "\n",
    "Docs: https://jupyterlab-realtime-collaboration.readthedocs.io/en/latest/\n",
    "\n",
    "\n",
    "```\n",
    "# To enable or disable RTC (Real-Time Collaboration) (default: False).\n",
    "# If True, RTC will be disabled.\n",
    "jupyter lab --YDocExtension.disable_rtc=True\n",
    "\n",
    "# The delay of inactivity (in seconds) after which a document is saved to disk (default: 1).\n",
    "# If None, the document will never be saved.\n",
    "jupyter lab --YDocExtension.document_save_delay=0.5\n",
    "\n",
    "# The period (in seconds) to check for file changes on disk (default: 1).\n",
    "# If 0, file changes will only be checked when saving.\n",
    "jupyter lab --YDocExtension.file_poll_interval=2\n",
    "\n",
    "# The delay (in seconds) to keep a document in memory in the back-end after all clients disconnect (default: 60).\n",
    "# If None, the document will be kept in memory forever.\n",
    "jupyter lab --YDocExtension.document_cleanup_delay=100\n",
    "\n",
    "# The YStore class to use for storing Y updates (default: JupyterSQLiteYStore).\n",
    "jupyter lab --YDocExtension.ystore_class=pycrdt_websocket.ystore.TempFileYStore\n",
    "```\n",
    "\n",
    "## Run it with: \n",
    "\n",
    "```\n",
    "jupyter lab --collaborative\n",
    "```"
   ]
  },
  {
   "cell_type": "code",
   "execution_count": null,
   "id": "a67008da-55fe-4f8e-a5c1-5946f61ada3e",
   "metadata": {},
   "outputs": [],
   "source": []
  }
 ],
 "metadata": {
  "kernelspec": {
   "display_name": "python3",
   "language": "python",
   "name": "python3"
  }
 },
 "nbformat": 4,
 "nbformat_minor": 5
}
