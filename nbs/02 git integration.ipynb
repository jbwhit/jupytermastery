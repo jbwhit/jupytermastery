{
 "cells": [
  {
   "cell_type": "markdown",
   "id": "b7da518e-8f5c-4962-b660-dad793ecd103",
   "metadata": {},
   "source": [
    "## Git \n",
    "\n",
    "https://nbdev.fast.ai/tutorials/git_friendly_jupyter.html"
   ]
  },
  {
   "cell_type": "code",
   "execution_count": null,
   "id": "8f8a9f91-71af-430b-b356-74a68cc8b315",
   "metadata": {},
   "outputs": [],
   "source": []
  }
 ],
 "metadata": {
  "kernelspec": {
   "display_name": "python3",
   "language": "python",
   "name": "python3"
  }
 },
 "nbformat": 4,
 "nbformat_minor": 5
}
